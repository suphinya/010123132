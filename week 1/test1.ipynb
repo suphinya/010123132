{
 "cells": [
  {
   "cell_type": "code",
   "execution_count": 6,
   "metadata": {},
   "outputs": [
    {
     "name": "stdout",
     "output_type": "stream",
     "text": [
      "Input the lines : 4\n",
      "plane = 11.0\n"
     ]
    }
   ],
   "source": [
    "# EX.2\n",
    "\n",
    "line = int(input(\"Input the lines : \"))\n",
    "plane = ( (line/2) * (1+line ) + 1 )        ## สูตรลำดับเลขคณิต +1\n",
    "print(\"plane = \" + str(plane))"
   ]
  },
  {
   "cell_type": "code",
   "execution_count": null,
   "metadata": {},
   "outputs": [],
   "source": []
  },
  {
   "cell_type": "code",
   "execution_count": 9,
   "metadata": {},
   "outputs": [],
   "source": [
    "# EX.4\n",
    "\n",
    "#r1 = input(\"enter 4 digit for row 1 : \")\n",
    "#r2 = input(\"enter 4 digit for row 2 : \")\n",
    "#r3 = input(\"enter 4 digit for row 3 : \")\n",
    "#r4 = input(\"enter 4 digit for row 4 : \")\n",
    "\n",
    "#r1 = str(1234)\n",
    "#r2 = str(1234)\n",
    "#r3 = str(1234)\n",
    "#r4 = str(1234)\n",
    "\n",
    "#c1 = r1[0] + r2[0] + r3[0] + r4[0]\n",
    "#c2 = r1[1] + r2[1] + r3[1] + r4[1]\n",
    "#c3 = r1[2] + r2[2] + r3[2] + r4[2]\n",
    "#c4 = r1[3] + r2[3] + r3[3] + r4[3]\n",
    "\n",
    "#s = 0\n",
    "\n",
    "#x= [r1,r2,r3,r4,c1,c2,c3,c4]\n",
    "\n",
    "#for k in range(len(x)):\n",
    "#    for i in range(len(r1)):\n",
    "#        if i < (len(r1)-1) : # iไม่เกิน3 0,1,2\n",
    "#            if int(x[k][i])+int(x[k][i+1]) == 10 : # 1-2 2-3 3-4\n",
    "#               s += 1\n",
    "\n",
    "#        if i < (len(r1)-2) :  # iไม่เกิน2 0,1\n",
    " #           if int(x[k][0])+int(x[k][i+2]) == 10 : # 1-3 1-4\n",
    " #               s += 1\n",
    "         \n",
    " #           if int(x[k][0])+int(x[k][1])+int(x[k][i+2]) == 10 : # 1-2-3 1-2-4\n",
    "#                s += 1\n",
    "        \n",
    "  #          if int(x[k][i])+int(x[k][2])+int(x[k][3]) == 10 : # 1-3-4 2-3-4\n",
    " #               s += 1\n",
    "        \n",
    "   #     if i < (len(r1)-3) :  # iไม่เกิน1 0\n",
    "   #         if int(x[k][1])+int(x[k][i+2]) == 10 : # 2-4\n",
    "   #             s += 1\n",
    "    \n",
    "     #       if int(x[k][i])+int(x[k][i+1])+int(x[k][i+2])+int(x[k][i+3]) == 10 : # 1-2-3-4\n",
    "     #           s += 1\n",
    "#print(\"มีผสมสิบทั้งหมด : \" + str(s) + \" ชุด\")        "
   ]
  },
  {
   "cell_type": "code",
   "execution_count": 1,
   "metadata": {},
   "outputs": [
    {
     "name": "stdout",
     "output_type": "stream",
     "text": [
      "enter 4 digit for row 1 : 1357\n",
      "enter 4 digit for row 2 : 2482\n",
      "enter 4 digit for row 3 : 6311\n",
      "enter 4 digit for row 4 : 2356\n",
      "มีผสมสิบทั้งหมด : 7 ชุด\n"
     ]
    }
   ],
   "source": [
    "# EX.4\n",
    "\n",
    "r1 = input(\"enter 4 digit for row 1 : \")\n",
    "r2 = input(\"enter 4 digit for row 2 : \")\n",
    "r3 = input(\"enter 4 digit for row 3 : \")\n",
    "r4 = input(\"enter 4 digit for row 4 : \")\n",
    "\n",
    "c1 = r1[0] + r2[0] + r3[0] + r4[0]\n",
    "c2 = r1[1] + r2[1] + r3[1] + r4[1]\n",
    "c3 = r1[2] + r2[2] + r3[2] + r4[2]\n",
    "c4 = r1[3] + r2[3] + r3[3] + r4[3]\n",
    "\n",
    "s = 0\n",
    "\n",
    "x= [r1,r2,r3,r4,c1,c2,c3,c4]\n",
    "\n",
    "for k in range(len(x)):\n",
    "    for i in range(len(r1)):\n",
    "        if i < (len(r1)-1) : # iไม่เกิน3 0,1,2\n",
    "            if int(x[k][i])+int(x[k][i+1]) == 10 : # 1-2 2-3 3-4\n",
    "                s += 1\n",
    "   \n",
    "        if i < (len(r1)-2) :  # iไม่เกิน2 0,1\n",
    "            if int(x[k][i])+int(x[k][i+1])+int(x[k][i+2]) == 10 : # 1-2-3  2-3-4\n",
    "                s += 1\n",
    "        \n",
    "        if i < (len(r1)-3) :  # iไม่เกิน1 0\n",
    "            if int(x[k][i])+int(x[k][i+1])+int(x[k][i+2])+int(x[k][i+3]) == 10 : # 1-2-3-4\n",
    "                s += 1\n",
    "                \n",
    "print(\"มีผสมสิบทั้งหมด : \" + str(s) + \" ชุด\")        "
   ]
  },
  {
   "cell_type": "code",
   "execution_count": null,
   "metadata": {},
   "outputs": [],
   "source": []
  },
  {
   "cell_type": "code",
   "execution_count": 9,
   "metadata": {},
   "outputs": [
    {
     "name": "stdout",
     "output_type": "stream",
     "text": [
      "[0, -1, 1]\n",
      "[2, -3, 1]\n",
      "[-2, 0, 2]\n",
      "all = 3 set\n"
     ]
    }
   ],
   "source": [
    "# EX.5\n",
    "\n",
    "array = [0,-1,2,-3,1,-2]\n",
    "wait = []          ## เช็ค 3 ตัว\n",
    "num = 0          ## จำนวนข้อมูล 3 ตัวที่รวมกันได้ 0\n",
    "fnext = []        ## พักตัวเริ่มต้นเพื่อนำไปหลังสุด\n",
    "\n",
    "for i in range(len(array)):\n",
    "    for j in range(len(array)):\n",
    "        wait.append(array[j])\n",
    "        if len(wait) == 3 and j != (len(array)-1) :                 ## เช็คเงื่อนไขครบ 3 ตัวและยังไม่ครบทุกจำนวน\n",
    "            if (int(wait[0])+int(wait[1])+int(wait[2])) == 0 :    ## รวมกัน 3 ตัวแล้ว เท่ากับ 0\n",
    "                num += 1\n",
    "                print(wait)\n",
    "                wait.pop()                                                        ## นำไปเช็คกับตัวที่เหลือโดยตัดตัวล่าสุดออก\n",
    "            else :\n",
    "                wait.pop()                                                        ## นำไปเช็คกับตัวที่เหลือโดยตัดตัวล่าสุดออก\n",
    "        elif j == (len(array)-1) :                                          ## เช็คเงื่อนไขครบทุกจำนวนแล้วให้ดึงตัวหน้าสุดไปไว้หลังสุดและเริ่มวนลูปใหม่\n",
    "            wait = []\n",
    "            fnext = array[0]\n",
    "            array.remove(array[0])\n",
    "            array.append(fnext)\n",
    "\n",
    "print(\"all = \" + str(num) + \" set\")"
   ]
  },
  {
   "cell_type": "code",
   "execution_count": null,
   "metadata": {},
   "outputs": [],
   "source": []
  }
 ],
 "metadata": {
  "kernelspec": {
   "display_name": "Python 3",
   "language": "python",
   "name": "python3"
  },
  "language_info": {
   "codemirror_mode": {
    "name": "ipython",
    "version": 3
   },
   "file_extension": ".py",
   "mimetype": "text/x-python",
   "name": "python",
   "nbconvert_exporter": "python",
   "pygments_lexer": "ipython3",
   "version": "3.7.3"
  }
 },
 "nbformat": 4,
 "nbformat_minor": 2
}
